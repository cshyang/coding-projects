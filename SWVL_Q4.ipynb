{
  "nbformat": 4,
  "nbformat_minor": 0,
  "metadata": {
    "colab": {
      "name": "SWVL_Q4.ipynb",
      "provenance": [],
      "collapsed_sections": [],
      "authorship_tag": "ABX9TyP120NUlZyKn+wKv3Ujmkmz",
      "include_colab_link": true
    },
    "kernelspec": {
      "name": "python3",
      "display_name": "Python 3"
    },
    "language_info": {
      "name": "python"
    }
  },
  "cells": [
    {
      "cell_type": "markdown",
      "metadata": {
        "id": "view-in-github",
        "colab_type": "text"
      },
      "source": [
        "<a href=\"https://colab.research.google.com/github/cshyang/coding-projects/blob/master/SWVL_Q4.ipynb\" target=\"_parent\"><img src=\"https://colab.research.google.com/assets/colab-badge.svg\" alt=\"Open In Colab\"/></a>"
      ]
    },
    {
      "cell_type": "markdown",
      "metadata": {
        "id": "eXOa4i_2l-0B"
      },
      "source": [
        "## Problem 4: Python or R Only.\n",
        "#####Treatment and Control splits are crucial for an effective and fair A-B test. Groups should be as identical as possible. Perform the following in order in your preferred programming language:"
      ]
    },
    {
      "cell_type": "code",
      "metadata": {
        "id": "a5nNpZFdsSMA",
        "colab": {
          "base_uri": "https://localhost:8080/",
          "height": 309
        },
        "outputId": "f5516131-7c3d-4ea5-bfad-6a536613fe34"
      },
      "source": [
        "from google.colab import auth\n",
        "auth.authenticate_user()\n",
        "\n",
        "import gspread\n",
        "from oauth2client.client import GoogleCredentials\n",
        "\n",
        "gc = gspread.authorize(GoogleCredentials.get_application_default())\n",
        "\n",
        "worksheet = gc.open('SWVL_Growth_Hacker_Case_DataSets').sheet1\n",
        "\n",
        "# get_all_values gives a list of rows.\n",
        "rows = worksheet.get_all_values()\n",
        "\n",
        "# Convert to a DataFrame and render.\n",
        "import pandas as pd\n",
        "df = pd.DataFrame(rows)\n",
        "new_header = df.iloc[0] #grab the first row for the header\n",
        "df = df[1:] #take the data less the header row\n",
        "df.columns = new_header #set the header row as the df header\n",
        "df.head()"
      ],
      "execution_count": 1,
      "outputs": [
        {
          "output_type": "execute_result",
          "data": {
            "text/html": [
              "<div>\n",
              "<style scoped>\n",
              "    .dataframe tbody tr th:only-of-type {\n",
              "        vertical-align: middle;\n",
              "    }\n",
              "\n",
              "    .dataframe tbody tr th {\n",
              "        vertical-align: top;\n",
              "    }\n",
              "\n",
              "    .dataframe thead th {\n",
              "        text-align: right;\n",
              "    }\n",
              "</style>\n",
              "<table border=\"1\" class=\"dataframe\">\n",
              "  <thead>\n",
              "    <tr style=\"text-align: right;\">\n",
              "      <th></th>\n",
              "      <th>booking_id</th>\n",
              "      <th>user_id</th>\n",
              "      <th>booking_date_stamp</th>\n",
              "      <th>pick_up_time</th>\n",
              "      <th>drop_off_time</th>\n",
              "      <th>pickup_dropoff_distance_km</th>\n",
              "      <th>ride_date</th>\n",
              "      <th>total_price</th>\n",
              "      <th>status</th>\n",
              "      <th>cancellation_date</th>\n",
              "      <th>cancellation_reason</th>\n",
              "      <th>promo_deduction</th>\n",
              "      <th>package_discount</th>\n",
              "      <th>cash_payment</th>\n",
              "      <th>credit_card_payment</th>\n",
              "      <th>promotion</th>\n",
              "      <th>rating</th>\n",
              "    </tr>\n",
              "  </thead>\n",
              "  <tbody>\n",
              "    <tr>\n",
              "      <th>1</th>\n",
              "      <td>85db66ce82d06424d07bab3a85890243</td>\n",
              "      <td>35116f9c68abf857e7540dc644ea48ec</td>\n",
              "      <td>2021-05-18 15:04:04.621000+00:00</td>\n",
              "      <td>2021-05-18 15:26:09+00:00</td>\n",
              "      <td>2021-05-18 16:33:30+00:00</td>\n",
              "      <td>37.853</td>\n",
              "      <td>2021-05-18 15:15:00+00:00</td>\n",
              "      <td>117</td>\n",
              "      <td>completed</td>\n",
              "      <td></td>\n",
              "      <td></td>\n",
              "      <td>23.4</td>\n",
              "      <td></td>\n",
              "      <td>90.35</td>\n",
              "      <td>0</td>\n",
              "      <td>133ef4102276c622027e5c4ec8abf913</td>\n",
              "      <td>4</td>\n",
              "    </tr>\n",
              "    <tr>\n",
              "      <th>2</th>\n",
              "      <td>d9c7b92be26d46d38dfdfeefb8b3bb53</td>\n",
              "      <td>4f0758ce8781c50f6fa01ecf88e7ad3b</td>\n",
              "      <td>2021-03-24 15:11:27.571000+00:00</td>\n",
              "      <td>2021-03-24 15:38:35+00:00</td>\n",
              "      <td>2021-03-24 16:33:00+00:00</td>\n",
              "      <td>22.797</td>\n",
              "      <td>2021-03-24 14:55:00+00:00</td>\n",
              "      <td>78</td>\n",
              "      <td>completed</td>\n",
              "      <td></td>\n",
              "      <td></td>\n",
              "      <td>23.4</td>\n",
              "      <td></td>\n",
              "      <td>42.9</td>\n",
              "      <td>0</td>\n",
              "      <td>03f92922f9119c18676930fc013b1d0d</td>\n",
              "      <td>5</td>\n",
              "    </tr>\n",
              "    <tr>\n",
              "      <th>3</th>\n",
              "      <td>c86861eeb58e6844ec864a85d5b9664c</td>\n",
              "      <td>1ecb152a0bec29d11c04a3011aed248b</td>\n",
              "      <td>2021-05-20 16:29:32.956000+00:00</td>\n",
              "      <td>2021-05-20 19:00:00+00:00</td>\n",
              "      <td>2021-05-20 20:01:08+00:00</td>\n",
              "      <td>32.543</td>\n",
              "      <td>2021-05-20 19:00:00+00:00</td>\n",
              "      <td>48.75</td>\n",
              "      <td>completed</td>\n",
              "      <td></td>\n",
              "      <td></td>\n",
              "      <td>12.1875</td>\n",
              "      <td></td>\n",
              "      <td>34.6125</td>\n",
              "      <td>0</td>\n",
              "      <td>261748a29e58805a2a5207d46c1b380c</td>\n",
              "      <td>5</td>\n",
              "    </tr>\n",
              "    <tr>\n",
              "      <th>4</th>\n",
              "      <td>7b613cb35ef01e0c180e403923675fa1</td>\n",
              "      <td>68740e23bfa17315823c15499beeed2b</td>\n",
              "      <td>2021-06-02 08:21:03.069000+00:00</td>\n",
              "      <td>2021-06-02 13:27:14+00:00</td>\n",
              "      <td>2021-06-02 14:26:39+00:00</td>\n",
              "      <td>9.717</td>\n",
              "      <td>2021-06-02 13:10:00+00:00</td>\n",
              "      <td>29.25</td>\n",
              "      <td>completed</td>\n",
              "      <td></td>\n",
              "      <td></td>\n",
              "      <td>4.3875</td>\n",
              "      <td></td>\n",
              "      <td>24.7</td>\n",
              "      <td>0</td>\n",
              "      <td>b3b55796707b261724cad1f01216ba71</td>\n",
              "      <td>5</td>\n",
              "    </tr>\n",
              "    <tr>\n",
              "      <th>5</th>\n",
              "      <td>b326facd4dbe726b2d556b348c73ac86</td>\n",
              "      <td>f57ba723e8f2c6a014bd8ad82c860e0b</td>\n",
              "      <td>2021-04-26 23:48:06.941000+00:00</td>\n",
              "      <td>2021-04-27 10:38:50+00:00</td>\n",
              "      <td>2021-04-27 11:39:10+00:00</td>\n",
              "      <td>30.499</td>\n",
              "      <td>2021-04-27 10:30:00+00:00</td>\n",
              "      <td>97.5</td>\n",
              "      <td>completed</td>\n",
              "      <td></td>\n",
              "      <td></td>\n",
              "      <td>48.75</td>\n",
              "      <td></td>\n",
              "      <td>48.75</td>\n",
              "      <td>0</td>\n",
              "      <td>7e44959a8aefd208f2dfc2d8b3979549</td>\n",
              "      <td>5</td>\n",
              "    </tr>\n",
              "  </tbody>\n",
              "</table>\n",
              "</div>"
            ],
            "text/plain": [
              "0                        booking_id  ... rating\n",
              "1  85db66ce82d06424d07bab3a85890243  ...      4\n",
              "2  d9c7b92be26d46d38dfdfeefb8b3bb53  ...      5\n",
              "3  c86861eeb58e6844ec864a85d5b9664c  ...      5\n",
              "4  7b613cb35ef01e0c180e403923675fa1  ...      5\n",
              "5  b326facd4dbe726b2d556b348c73ac86  ...      5\n",
              "\n",
              "[5 rows x 17 columns]"
            ]
          },
          "metadata": {
            "tags": []
          },
          "execution_count": 1
        }
      ]
    },
    {
      "cell_type": "markdown",
      "metadata": {
        "id": "hnhppcPFtJKe"
      },
      "source": [
        "a)Read your booking data and filter all users who completed at least 1 booking in the last 30 days.\n",
        "\n",
        "c) Calculate how many bookings completed by each user in the last 30 days."
      ]
    },
    {
      "cell_type": "code",
      "metadata": {
        "colab": {
          "base_uri": "https://localhost:8080/",
          "height": 527
        },
        "id": "Yd7OOdoNkOGu",
        "outputId": "f2946f8b-ee02-4cb5-91e5-7bc7cef13b5c"
      },
      "source": [
        "#import pandasql to run sql query on pandas dataframe\n",
        "!pip install pandasql\n",
        "import pandasql as ps\n",
        "\n",
        "q = \"\"\"\n",
        "        select \n",
        "          user_id\n",
        "          , sum(1) as last_30days_bookings\n",
        "          , max(date(booking_date_stamp)) as last_booking_date\n",
        "        from \n",
        "          df \n",
        "        where \n",
        "          status = 'completed' \n",
        "        and \n",
        "          date(booking_date_stamp) >= date('2021-05-07')\n",
        "        and\n",
        "          date(booking_date_stamp) <= date('2021-06-06')\n",
        "        group by\n",
        "          1\n",
        "    \"\"\"\n",
        "\n",
        "agg = ps.sqldf(q)\n",
        "agg.head()"
      ],
      "execution_count": 2,
      "outputs": [
        {
          "output_type": "stream",
          "text": [
            "Collecting pandasql\n",
            "  Downloading https://files.pythonhosted.org/packages/6b/c4/ee4096ffa2eeeca0c749b26f0371bd26aa5c8b611c43de99a4f86d3de0a7/pandasql-0.7.3.tar.gz\n",
            "Requirement already satisfied: numpy in /usr/local/lib/python3.7/dist-packages (from pandasql) (1.19.5)\n",
            "Requirement already satisfied: pandas in /usr/local/lib/python3.7/dist-packages (from pandasql) (1.1.5)\n",
            "Requirement already satisfied: sqlalchemy in /usr/local/lib/python3.7/dist-packages (from pandasql) (1.4.15)\n",
            "Requirement already satisfied: pytz>=2017.2 in /usr/local/lib/python3.7/dist-packages (from pandas->pandasql) (2018.9)\n",
            "Requirement already satisfied: python-dateutil>=2.7.3 in /usr/local/lib/python3.7/dist-packages (from pandas->pandasql) (2.8.1)\n",
            "Requirement already satisfied: greenlet!=0.4.17; python_version >= \"3\" in /usr/local/lib/python3.7/dist-packages (from sqlalchemy->pandasql) (1.1.0)\n",
            "Requirement already satisfied: importlib-metadata; python_version < \"3.8\" in /usr/local/lib/python3.7/dist-packages (from sqlalchemy->pandasql) (4.0.1)\n",
            "Requirement already satisfied: six>=1.5 in /usr/local/lib/python3.7/dist-packages (from python-dateutil>=2.7.3->pandas->pandasql) (1.15.0)\n",
            "Requirement already satisfied: zipp>=0.5 in /usr/local/lib/python3.7/dist-packages (from importlib-metadata; python_version < \"3.8\"->sqlalchemy->pandasql) (3.4.1)\n",
            "Requirement already satisfied: typing-extensions>=3.6.4; python_version < \"3.8\" in /usr/local/lib/python3.7/dist-packages (from importlib-metadata; python_version < \"3.8\"->sqlalchemy->pandasql) (3.7.4.3)\n",
            "Building wheels for collected packages: pandasql\n",
            "  Building wheel for pandasql (setup.py) ... \u001b[?25l\u001b[?25hdone\n",
            "  Created wheel for pandasql: filename=pandasql-0.7.3-cp37-none-any.whl size=26784 sha256=9d00786271c25febb1231d771cf5a210c6f564ba6a85d126df613e7a141a592b\n",
            "  Stored in directory: /root/.cache/pip/wheels/53/6c/18/b87a2e5fa8a82e9c026311de56210b8d1c01846e18a9607fc9\n",
            "Successfully built pandasql\n",
            "Installing collected packages: pandasql\n",
            "Successfully installed pandasql-0.7.3\n"
          ],
          "name": "stdout"
        },
        {
          "output_type": "execute_result",
          "data": {
            "text/html": [
              "<div>\n",
              "<style scoped>\n",
              "    .dataframe tbody tr th:only-of-type {\n",
              "        vertical-align: middle;\n",
              "    }\n",
              "\n",
              "    .dataframe tbody tr th {\n",
              "        vertical-align: top;\n",
              "    }\n",
              "\n",
              "    .dataframe thead th {\n",
              "        text-align: right;\n",
              "    }\n",
              "</style>\n",
              "<table border=\"1\" class=\"dataframe\">\n",
              "  <thead>\n",
              "    <tr style=\"text-align: right;\">\n",
              "      <th></th>\n",
              "      <th>user_id</th>\n",
              "      <th>last_30days_bookings</th>\n",
              "      <th>last_booking_date</th>\n",
              "    </tr>\n",
              "  </thead>\n",
              "  <tbody>\n",
              "    <tr>\n",
              "      <th>0</th>\n",
              "      <td>000c7257a5ea078a05e0c7716e4c4522</td>\n",
              "      <td>1</td>\n",
              "      <td>2021-05-24</td>\n",
              "    </tr>\n",
              "    <tr>\n",
              "      <th>1</th>\n",
              "      <td>00111f083d1ef214b82118d04bfd9fa2</td>\n",
              "      <td>6</td>\n",
              "      <td>2021-05-17</td>\n",
              "    </tr>\n",
              "    <tr>\n",
              "      <th>2</th>\n",
              "      <td>00140a6c46900e2c34bb5cf89f61df7d</td>\n",
              "      <td>5</td>\n",
              "      <td>2021-06-06</td>\n",
              "    </tr>\n",
              "    <tr>\n",
              "      <th>3</th>\n",
              "      <td>0054850a1acb68ff3785390c184ea841</td>\n",
              "      <td>1</td>\n",
              "      <td>2021-06-04</td>\n",
              "    </tr>\n",
              "    <tr>\n",
              "      <th>4</th>\n",
              "      <td>00648f45109d7885f944a8659df943a8</td>\n",
              "      <td>1</td>\n",
              "      <td>2021-05-13</td>\n",
              "    </tr>\n",
              "  </tbody>\n",
              "</table>\n",
              "</div>"
            ],
            "text/plain": [
              "                            user_id  last_30days_bookings last_booking_date\n",
              "0  000c7257a5ea078a05e0c7716e4c4522                     1        2021-05-24\n",
              "1  00111f083d1ef214b82118d04bfd9fa2                     6        2021-05-17\n",
              "2  00140a6c46900e2c34bb5cf89f61df7d                     5        2021-06-06\n",
              "3  0054850a1acb68ff3785390c184ea841                     1        2021-06-04\n",
              "4  00648f45109d7885f944a8659df943a8                     1        2021-05-13"
            ]
          },
          "metadata": {
            "tags": []
          },
          "execution_count": 2
        }
      ]
    },
    {
      "cell_type": "markdown",
      "metadata": {
        "id": "eJ4RftEMjbW6"
      },
      "source": [
        "b) Calculate the days passed since the last completed booking for each user, let’s call this inactivity days."
      ]
    },
    {
      "cell_type": "code",
      "metadata": {
        "colab": {
          "base_uri": "https://localhost:8080/",
          "height": 204
        },
        "id": "EW7087PmRdKP",
        "outputId": "620e4aff-1f5e-4820-90c2-6e879d26c5ea"
      },
      "source": [
        "#calculate days_since_last_order\n",
        "\n",
        "agg['current_date'] = pd.to_datetime('today').strftime(\"%Y-%m-%d\")\n",
        "agg[['current_date', 'last_booking_date']] = agg[['current_date', 'last_booking_date']].apply(pd.to_datetime)\n",
        "agg['days_since_last_order'] = agg['current_date'] - agg['last_booking_date']\n",
        "\n",
        "agg.head()"
      ],
      "execution_count": 17,
      "outputs": [
        {
          "output_type": "execute_result",
          "data": {
            "text/html": [
              "<div>\n",
              "<style scoped>\n",
              "    .dataframe tbody tr th:only-of-type {\n",
              "        vertical-align: middle;\n",
              "    }\n",
              "\n",
              "    .dataframe tbody tr th {\n",
              "        vertical-align: top;\n",
              "    }\n",
              "\n",
              "    .dataframe thead th {\n",
              "        text-align: right;\n",
              "    }\n",
              "</style>\n",
              "<table border=\"1\" class=\"dataframe\">\n",
              "  <thead>\n",
              "    <tr style=\"text-align: right;\">\n",
              "      <th></th>\n",
              "      <th>user_id</th>\n",
              "      <th>last_30days_bookings</th>\n",
              "      <th>last_booking_date</th>\n",
              "      <th>current_date</th>\n",
              "      <th>days_since_last_order</th>\n",
              "    </tr>\n",
              "  </thead>\n",
              "  <tbody>\n",
              "    <tr>\n",
              "      <th>0</th>\n",
              "      <td>000c7257a5ea078a05e0c7716e4c4522</td>\n",
              "      <td>1</td>\n",
              "      <td>2021-05-24</td>\n",
              "      <td>2021-06-13</td>\n",
              "      <td>20 days</td>\n",
              "    </tr>\n",
              "    <tr>\n",
              "      <th>1</th>\n",
              "      <td>00111f083d1ef214b82118d04bfd9fa2</td>\n",
              "      <td>6</td>\n",
              "      <td>2021-05-17</td>\n",
              "      <td>2021-06-13</td>\n",
              "      <td>27 days</td>\n",
              "    </tr>\n",
              "    <tr>\n",
              "      <th>2</th>\n",
              "      <td>00140a6c46900e2c34bb5cf89f61df7d</td>\n",
              "      <td>5</td>\n",
              "      <td>2021-06-06</td>\n",
              "      <td>2021-06-13</td>\n",
              "      <td>7 days</td>\n",
              "    </tr>\n",
              "    <tr>\n",
              "      <th>3</th>\n",
              "      <td>0054850a1acb68ff3785390c184ea841</td>\n",
              "      <td>1</td>\n",
              "      <td>2021-06-04</td>\n",
              "      <td>2021-06-13</td>\n",
              "      <td>9 days</td>\n",
              "    </tr>\n",
              "    <tr>\n",
              "      <th>4</th>\n",
              "      <td>00648f45109d7885f944a8659df943a8</td>\n",
              "      <td>1</td>\n",
              "      <td>2021-05-13</td>\n",
              "      <td>2021-06-13</td>\n",
              "      <td>31 days</td>\n",
              "    </tr>\n",
              "  </tbody>\n",
              "</table>\n",
              "</div>"
            ],
            "text/plain": [
              "                            user_id  ...  days_since_last_order\n",
              "0  000c7257a5ea078a05e0c7716e4c4522  ...                20 days\n",
              "1  00111f083d1ef214b82118d04bfd9fa2  ...                27 days\n",
              "2  00140a6c46900e2c34bb5cf89f61df7d  ...                 7 days\n",
              "3  0054850a1acb68ff3785390c184ea841  ...                 9 days\n",
              "4  00648f45109d7885f944a8659df943a8  ...                31 days\n",
              "\n",
              "[5 rows x 5 columns]"
            ]
          },
          "metadata": {
            "tags": []
          },
          "execution_count": 17
        }
      ]
    },
    {
      "cell_type": "markdown",
      "metadata": {
        "id": "aWUqC3JcduMw"
      },
      "source": [
        "d) Assign a frequency segment to your selected users: HV 5+ bookings, MV 2-4 bookings and LV 1-2 bookings. Eg: if Mike did 6 completed bookings in the last 30 days we will assign HV to him, if he did 1 booking LV etc."
      ]
    },
    {
      "cell_type": "code",
      "metadata": {
        "colab": {
          "base_uri": "https://localhost:8080/",
          "height": 142
        },
        "id": "REVtwUFjkmYr",
        "outputId": "df082672-4030-4a3f-ac1b-f2f6aeca1893"
      },
      "source": [
        "# label users in to HV, MV and LV based on last_30days_bookings\n",
        "\n",
        "import numpy as np\n",
        "\n",
        "agg[\"segment\"] = np.select(\n",
        "    [\n",
        "     agg[\"last_30days_bookings\"] >=5,\n",
        "     agg[\"last_30days_bookings\"].between(3, 4, inclusive=True),\n",
        "     agg[\"last_30days_bookings\"].between(1, 2, inclusive=True)\n",
        "    ],\n",
        "    [\n",
        "     'HV',\n",
        "     'MV',\n",
        "     'LV'\n",
        "    ],\n",
        "    default = 'Unknown'\n",
        ")\n",
        "\n",
        "agg.groupby(\"segment\",as_index=False)[\"user_id\"].count()"
      ],
      "execution_count": 11,
      "outputs": [
        {
          "output_type": "execute_result",
          "data": {
            "text/html": [
              "<div>\n",
              "<style scoped>\n",
              "    .dataframe tbody tr th:only-of-type {\n",
              "        vertical-align: middle;\n",
              "    }\n",
              "\n",
              "    .dataframe tbody tr th {\n",
              "        vertical-align: top;\n",
              "    }\n",
              "\n",
              "    .dataframe thead th {\n",
              "        text-align: right;\n",
              "    }\n",
              "</style>\n",
              "<table border=\"1\" class=\"dataframe\">\n",
              "  <thead>\n",
              "    <tr style=\"text-align: right;\">\n",
              "      <th></th>\n",
              "      <th>segment</th>\n",
              "      <th>user_id</th>\n",
              "    </tr>\n",
              "  </thead>\n",
              "  <tbody>\n",
              "    <tr>\n",
              "      <th>0</th>\n",
              "      <td>HV</td>\n",
              "      <td>316</td>\n",
              "    </tr>\n",
              "    <tr>\n",
              "      <th>1</th>\n",
              "      <td>LV</td>\n",
              "      <td>1508</td>\n",
              "    </tr>\n",
              "    <tr>\n",
              "      <th>2</th>\n",
              "      <td>MV</td>\n",
              "      <td>341</td>\n",
              "    </tr>\n",
              "  </tbody>\n",
              "</table>\n",
              "</div>"
            ],
            "text/plain": [
              "  segment  user_id\n",
              "0      HV      316\n",
              "1      LV     1508\n",
              "2      MV      341"
            ]
          },
          "metadata": {
            "tags": []
          },
          "execution_count": 11
        }
      ]
    },
    {
      "cell_type": "markdown",
      "metadata": {
        "id": "D4ZONSxIZKGW"
      },
      "source": [
        "e) Write a code piece as you will to split these users into 2 groups."
      ]
    },
    {
      "cell_type": "code",
      "metadata": {
        "colab": {
          "base_uri": "https://localhost:8080/",
          "height": 297
        },
        "id": "Nb48-uh-aBzs",
        "outputId": "725552a5-7375-4c2c-e557-81e00ee64305"
      },
      "source": [
        "#Stratify split using sklear train_test_split\n",
        "\n",
        "from sklearn.model_selection import train_test_split\n",
        "\n",
        "y = agg.pop('segment').to_frame()\n",
        "X = agg\n",
        "\n",
        "X_test, X_control, y_test, y_control = train_test_split(\n",
        "        X, y,stratify=y, test_size=0.5)\n",
        "\n",
        "treatment = pd.concat([X_test, y_test], axis=1)\n",
        "control = pd.concat([X_control, y_control], axis=1)\n"
      ],
      "execution_count": 12,
      "outputs": [
        {
          "output_type": "execute_result",
          "data": {
            "text/html": [
              "<div>\n",
              "<style scoped>\n",
              "    .dataframe tbody tr th:only-of-type {\n",
              "        vertical-align: middle;\n",
              "    }\n",
              "\n",
              "    .dataframe tbody tr th {\n",
              "        vertical-align: top;\n",
              "    }\n",
              "\n",
              "    .dataframe thead th {\n",
              "        text-align: right;\n",
              "    }\n",
              "</style>\n",
              "<table border=\"1\" class=\"dataframe\">\n",
              "  <thead>\n",
              "    <tr style=\"text-align: right;\">\n",
              "      <th></th>\n",
              "      <th>last_30days_bookings</th>\n",
              "      <th>days_since_last_order</th>\n",
              "    </tr>\n",
              "  </thead>\n",
              "  <tbody>\n",
              "    <tr>\n",
              "      <th>count</th>\n",
              "      <td>1082.000000</td>\n",
              "      <td>1082</td>\n",
              "    </tr>\n",
              "    <tr>\n",
              "      <th>mean</th>\n",
              "      <td>2.702403</td>\n",
              "      <td>19 days 02:07:45.804066543</td>\n",
              "    </tr>\n",
              "    <tr>\n",
              "      <th>std</th>\n",
              "      <td>3.149699</td>\n",
              "      <td>9 days 13:22:25.696034035</td>\n",
              "    </tr>\n",
              "    <tr>\n",
              "      <th>min</th>\n",
              "      <td>1.000000</td>\n",
              "      <td>7 days 00:00:00</td>\n",
              "    </tr>\n",
              "    <tr>\n",
              "      <th>25%</th>\n",
              "      <td>1.000000</td>\n",
              "      <td>11 days 00:00:00</td>\n",
              "    </tr>\n",
              "    <tr>\n",
              "      <th>50%</th>\n",
              "      <td>2.000000</td>\n",
              "      <td>17 days 00:00:00</td>\n",
              "    </tr>\n",
              "    <tr>\n",
              "      <th>75%</th>\n",
              "      <td>3.000000</td>\n",
              "      <td>28 days 00:00:00</td>\n",
              "    </tr>\n",
              "    <tr>\n",
              "      <th>max</th>\n",
              "      <td>38.000000</td>\n",
              "      <td>37 days 00:00:00</td>\n",
              "    </tr>\n",
              "  </tbody>\n",
              "</table>\n",
              "</div>"
            ],
            "text/plain": [
              "       last_30days_bookings       days_since_last_order\n",
              "count           1082.000000                        1082\n",
              "mean               2.702403  19 days 02:07:45.804066543\n",
              "std                3.149699   9 days 13:22:25.696034035\n",
              "min                1.000000             7 days 00:00:00\n",
              "25%                1.000000            11 days 00:00:00\n",
              "50%                2.000000            17 days 00:00:00\n",
              "75%                3.000000            28 days 00:00:00\n",
              "max               38.000000            37 days 00:00:00"
            ]
          },
          "metadata": {
            "tags": []
          },
          "execution_count": 12
        }
      ]
    },
    {
      "cell_type": "markdown",
      "metadata": {
        "id": "hpT9f6boNusw"
      },
      "source": [
        "**f) Check and show that these groups are similar by frequency segment (c) and inactivity days(b) .  Hint: provide and compare summary statistics like, count, mean,median etc.**"
      ]
    },
    {
      "cell_type": "code",
      "metadata": {
        "colab": {
          "base_uri": "https://localhost:8080/",
          "height": 827
        },
        "id": "3m_3B5PpPCYI",
        "outputId": "e0e1c5c0-09ce-41f9-e3d2-bd63c8609fe6"
      },
      "source": [
        "# compare the statistic and segment size between treatment and control groups\n",
        "\n",
        "display(control.describe() )\n",
        "display(treatment.describe())\n",
        "display(control.groupby(\"segment\",as_index=False)[\"user_id\"].count() )\n",
        "display(treatment.groupby(\"segment\",as_index=False)[\"user_id\"].count() )"
      ],
      "execution_count": 18,
      "outputs": [
        {
          "output_type": "display_data",
          "data": {
            "text/html": [
              "<div>\n",
              "<style scoped>\n",
              "    .dataframe tbody tr th:only-of-type {\n",
              "        vertical-align: middle;\n",
              "    }\n",
              "\n",
              "    .dataframe tbody tr th {\n",
              "        vertical-align: top;\n",
              "    }\n",
              "\n",
              "    .dataframe thead th {\n",
              "        text-align: right;\n",
              "    }\n",
              "</style>\n",
              "<table border=\"1\" class=\"dataframe\">\n",
              "  <thead>\n",
              "    <tr style=\"text-align: right;\">\n",
              "      <th></th>\n",
              "      <th>last_30days_bookings</th>\n",
              "      <th>days_since_last_order</th>\n",
              "    </tr>\n",
              "  </thead>\n",
              "  <tbody>\n",
              "    <tr>\n",
              "      <th>count</th>\n",
              "      <td>1083.000000</td>\n",
              "      <td>1083</td>\n",
              "    </tr>\n",
              "    <tr>\n",
              "      <th>mean</th>\n",
              "      <td>2.637119</td>\n",
              "      <td>19 days 04:24:35.900277008</td>\n",
              "    </tr>\n",
              "    <tr>\n",
              "      <th>std</th>\n",
              "      <td>2.803547</td>\n",
              "      <td>9 days 06:51:58.116483661</td>\n",
              "    </tr>\n",
              "    <tr>\n",
              "      <th>min</th>\n",
              "      <td>1.000000</td>\n",
              "      <td>7 days 00:00:00</td>\n",
              "    </tr>\n",
              "    <tr>\n",
              "      <th>25%</th>\n",
              "      <td>1.000000</td>\n",
              "      <td>11 days 00:00:00</td>\n",
              "    </tr>\n",
              "    <tr>\n",
              "      <th>50%</th>\n",
              "      <td>2.000000</td>\n",
              "      <td>18 days 00:00:00</td>\n",
              "    </tr>\n",
              "    <tr>\n",
              "      <th>75%</th>\n",
              "      <td>3.000000</td>\n",
              "      <td>26 days 00:00:00</td>\n",
              "    </tr>\n",
              "    <tr>\n",
              "      <th>max</th>\n",
              "      <td>25.000000</td>\n",
              "      <td>37 days 00:00:00</td>\n",
              "    </tr>\n",
              "  </tbody>\n",
              "</table>\n",
              "</div>"
            ],
            "text/plain": [
              "       last_30days_bookings       days_since_last_order\n",
              "count           1083.000000                        1083\n",
              "mean               2.637119  19 days 04:24:35.900277008\n",
              "std                2.803547   9 days 06:51:58.116483661\n",
              "min                1.000000             7 days 00:00:00\n",
              "25%                1.000000            11 days 00:00:00\n",
              "50%                2.000000            18 days 00:00:00\n",
              "75%                3.000000            26 days 00:00:00\n",
              "max               25.000000            37 days 00:00:00"
            ]
          },
          "metadata": {
            "tags": []
          }
        },
        {
          "output_type": "display_data",
          "data": {
            "text/html": [
              "<div>\n",
              "<style scoped>\n",
              "    .dataframe tbody tr th:only-of-type {\n",
              "        vertical-align: middle;\n",
              "    }\n",
              "\n",
              "    .dataframe tbody tr th {\n",
              "        vertical-align: top;\n",
              "    }\n",
              "\n",
              "    .dataframe thead th {\n",
              "        text-align: right;\n",
              "    }\n",
              "</style>\n",
              "<table border=\"1\" class=\"dataframe\">\n",
              "  <thead>\n",
              "    <tr style=\"text-align: right;\">\n",
              "      <th></th>\n",
              "      <th>last_30days_bookings</th>\n",
              "      <th>days_since_last_order</th>\n",
              "    </tr>\n",
              "  </thead>\n",
              "  <tbody>\n",
              "    <tr>\n",
              "      <th>count</th>\n",
              "      <td>1082.000000</td>\n",
              "      <td>1082</td>\n",
              "    </tr>\n",
              "    <tr>\n",
              "      <th>mean</th>\n",
              "      <td>2.702403</td>\n",
              "      <td>19 days 02:07:45.804066543</td>\n",
              "    </tr>\n",
              "    <tr>\n",
              "      <th>std</th>\n",
              "      <td>3.149699</td>\n",
              "      <td>9 days 13:22:25.696034035</td>\n",
              "    </tr>\n",
              "    <tr>\n",
              "      <th>min</th>\n",
              "      <td>1.000000</td>\n",
              "      <td>7 days 00:00:00</td>\n",
              "    </tr>\n",
              "    <tr>\n",
              "      <th>25%</th>\n",
              "      <td>1.000000</td>\n",
              "      <td>11 days 00:00:00</td>\n",
              "    </tr>\n",
              "    <tr>\n",
              "      <th>50%</th>\n",
              "      <td>2.000000</td>\n",
              "      <td>17 days 00:00:00</td>\n",
              "    </tr>\n",
              "    <tr>\n",
              "      <th>75%</th>\n",
              "      <td>3.000000</td>\n",
              "      <td>28 days 00:00:00</td>\n",
              "    </tr>\n",
              "    <tr>\n",
              "      <th>max</th>\n",
              "      <td>38.000000</td>\n",
              "      <td>37 days 00:00:00</td>\n",
              "    </tr>\n",
              "  </tbody>\n",
              "</table>\n",
              "</div>"
            ],
            "text/plain": [
              "       last_30days_bookings       days_since_last_order\n",
              "count           1082.000000                        1082\n",
              "mean               2.702403  19 days 02:07:45.804066543\n",
              "std                3.149699   9 days 13:22:25.696034035\n",
              "min                1.000000             7 days 00:00:00\n",
              "25%                1.000000            11 days 00:00:00\n",
              "50%                2.000000            17 days 00:00:00\n",
              "75%                3.000000            28 days 00:00:00\n",
              "max               38.000000            37 days 00:00:00"
            ]
          },
          "metadata": {
            "tags": []
          }
        },
        {
          "output_type": "display_data",
          "data": {
            "text/html": [
              "<div>\n",
              "<style scoped>\n",
              "    .dataframe tbody tr th:only-of-type {\n",
              "        vertical-align: middle;\n",
              "    }\n",
              "\n",
              "    .dataframe tbody tr th {\n",
              "        vertical-align: top;\n",
              "    }\n",
              "\n",
              "    .dataframe thead th {\n",
              "        text-align: right;\n",
              "    }\n",
              "</style>\n",
              "<table border=\"1\" class=\"dataframe\">\n",
              "  <thead>\n",
              "    <tr style=\"text-align: right;\">\n",
              "      <th></th>\n",
              "      <th>segment</th>\n",
              "      <th>user_id</th>\n",
              "    </tr>\n",
              "  </thead>\n",
              "  <tbody>\n",
              "    <tr>\n",
              "      <th>0</th>\n",
              "      <td>HV</td>\n",
              "      <td>158</td>\n",
              "    </tr>\n",
              "    <tr>\n",
              "      <th>1</th>\n",
              "      <td>LV</td>\n",
              "      <td>754</td>\n",
              "    </tr>\n",
              "    <tr>\n",
              "      <th>2</th>\n",
              "      <td>MV</td>\n",
              "      <td>171</td>\n",
              "    </tr>\n",
              "  </tbody>\n",
              "</table>\n",
              "</div>"
            ],
            "text/plain": [
              "  segment  user_id\n",
              "0      HV      158\n",
              "1      LV      754\n",
              "2      MV      171"
            ]
          },
          "metadata": {
            "tags": []
          }
        },
        {
          "output_type": "display_data",
          "data": {
            "text/html": [
              "<div>\n",
              "<style scoped>\n",
              "    .dataframe tbody tr th:only-of-type {\n",
              "        vertical-align: middle;\n",
              "    }\n",
              "\n",
              "    .dataframe tbody tr th {\n",
              "        vertical-align: top;\n",
              "    }\n",
              "\n",
              "    .dataframe thead th {\n",
              "        text-align: right;\n",
              "    }\n",
              "</style>\n",
              "<table border=\"1\" class=\"dataframe\">\n",
              "  <thead>\n",
              "    <tr style=\"text-align: right;\">\n",
              "      <th></th>\n",
              "      <th>segment</th>\n",
              "      <th>user_id</th>\n",
              "    </tr>\n",
              "  </thead>\n",
              "  <tbody>\n",
              "    <tr>\n",
              "      <th>0</th>\n",
              "      <td>HV</td>\n",
              "      <td>158</td>\n",
              "    </tr>\n",
              "    <tr>\n",
              "      <th>1</th>\n",
              "      <td>LV</td>\n",
              "      <td>754</td>\n",
              "    </tr>\n",
              "    <tr>\n",
              "      <th>2</th>\n",
              "      <td>MV</td>\n",
              "      <td>170</td>\n",
              "    </tr>\n",
              "  </tbody>\n",
              "</table>\n",
              "</div>"
            ],
            "text/plain": [
              "  segment  user_id\n",
              "0      HV      158\n",
              "1      LV      754\n",
              "2      MV      170"
            ]
          },
          "metadata": {
            "tags": []
          }
        }
      ]
    },
    {
      "cell_type": "markdown",
      "metadata": {
        "id": "LVLyswRwQkEO"
      },
      "source": [
        "*treatment and control groups have very similar means and standard deviation for last_30days_bookings, and have identical numbers of users in each segment.*"
      ]
    },
    {
      "cell_type": "code",
      "metadata": {
        "id": "KYX1S_LbQ9QW"
      },
      "source": [
        ""
      ],
      "execution_count": null,
      "outputs": []
    }
  ]
}