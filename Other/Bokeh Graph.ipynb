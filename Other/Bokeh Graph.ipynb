{
 "cells": [
  {
   "cell_type": "code",
   "execution_count": 1,
   "metadata": {},
   "outputs": [],
   "source": [
    "#import bokeh\n",
    "from bokeh.plotting import figure\n",
    "from bokeh.io import output_file, show\n",
    "import pandas as pd"
   ]
  },
  {
   "cell_type": "code",
   "execution_count": 2,
   "metadata": {},
   "outputs": [],
   "source": [
    "#practice dataset from csv\n",
    "\n",
    "#prepare some data\n",
    "df = pd.read_csv(\"data.csv\")\n",
    "x = df[\"x\"]\n",
    "y = df[\"y\"]\n",
    "\n",
    "#create a figure object\n",
    "f = figure()\n",
    "\n",
    "#create a line plot\n",
    "f.line(x,y)\n",
    "\n",
    "show(f)"
   ]
  },
  {
   "cell_type": "code",
   "execution_count": 2,
   "metadata": {},
   "outputs": [],
   "source": [
    "#practice with reading dataset from link\n",
    "df1 = pd.read_csv(\"http://pythonhow.com/data/bachelors.csv\")\n",
    "\n",
    "bachelor = figure()\n",
    "bachelor.line(df1[\"Year\"], df1[\"Engineering\"])\n",
    "show(bachelor) "
   ]
  },
  {
   "cell_type": "code",
   "execution_count": 13,
   "metadata": {},
   "outputs": [],
   "source": [
    "df2  = pd.read_excel(\"http://pythonhow.com/data/verlegenhuken.xlsx\")\n",
    "\n",
    "f = figure()\n",
    "f.title.text = \"Temperature vs Pressure\"\n",
    "f.title.text_font = 'roboto'\n",
    "f.title.text_font_style = \"bold\"\n",
    "f.title.text_color = \"grey\"\n",
    "f.xaxis.minor_tick_line_color=None\n",
    "f.yaxis.minor_tick_line_color=None\n",
    "f.xaxis.axis_label = \"Temperature\"\n",
    "f.yaxis.axis_label = \"Pressure\"\n",
    "f.circle(df2[\"Temperature\"], df2[\"Pressure\"], size = 0.6)\n",
    "show(f)"
   ]
  },
  {
   "cell_type": "code",
   "execution_count": 35,
   "metadata": {},
   "outputs": [],
   "source": [
    "# plotting time series graph\n",
    "df3 = pd.read_csv(\"abde.csv\", parse_dates=[\"Date\"])\n",
    "\n",
    "f = figure(width=500, height= 500, x_axis_type = \"datetime\", sizing_mode=\"stretch_both\")\n",
    "\n",
    "#styling\n",
    "f.title.text = 'Time Series'\n",
    "f.title.text_font = 'roboto'\n",
    "f.title.text_font_style = \"bold\"\n",
    "f.title.text_color = \"grey\"\n",
    "f.xaxis.minor_tick_line_color=None\n",
    "f.yaxis.minor_tick_line_color=None\n",
    "f.xaxis.axis_label = \"Date\"\n",
    "f.yaxis.axis_label = \"Close\"\n",
    "f.line(df3[\"Date\"], df3[\"Close\"], line_width= 2, alpha = 0.5)\n",
    "\n",
    "show(f)\n"
   ]
  },
  {
   "cell_type": "code",
   "execution_count": 18,
   "metadata": {},
   "outputs": [
    {
     "data": {
      "text/html": [
       "<div>\n",
       "<style scoped>\n",
       "    .dataframe tbody tr th:only-of-type {\n",
       "        vertical-align: middle;\n",
       "    }\n",
       "\n",
       "    .dataframe tbody tr th {\n",
       "        vertical-align: top;\n",
       "    }\n",
       "\n",
       "    .dataframe thead th {\n",
       "        text-align: right;\n",
       "    }\n",
       "</style>\n",
       "<table border=\"1\" class=\"dataframe\">\n",
       "  <thead>\n",
       "    <tr style=\"text-align: right;\">\n",
       "      <th></th>\n",
       "      <th>Date</th>\n",
       "      <th>Open</th>\n",
       "      <th>High</th>\n",
       "      <th>Low</th>\n",
       "      <th>Close</th>\n",
       "      <th>Volume</th>\n",
       "    </tr>\n",
       "  </thead>\n",
       "  <tbody>\n",
       "    <tr>\n",
       "      <th>0</th>\n",
       "      <td>2-Aug-12</td>\n",
       "      <td>30.46</td>\n",
       "      <td>30.83</td>\n",
       "      <td>30.25</td>\n",
       "      <td>30.58</td>\n",
       "      <td>2639980</td>\n",
       "    </tr>\n",
       "    <tr>\n",
       "      <th>1</th>\n",
       "      <td>1-Aug-12</td>\n",
       "      <td>31.05</td>\n",
       "      <td>31.17</td>\n",
       "      <td>30.64</td>\n",
       "      <td>30.69</td>\n",
       "      <td>2738740</td>\n",
       "    </tr>\n",
       "    <tr>\n",
       "      <th>2</th>\n",
       "      <td>31-Jul-12</td>\n",
       "      <td>30.99</td>\n",
       "      <td>31.27</td>\n",
       "      <td>30.84</td>\n",
       "      <td>30.88</td>\n",
       "      <td>2662853</td>\n",
       "    </tr>\n",
       "    <tr>\n",
       "      <th>3</th>\n",
       "      <td>30-Jul-12</td>\n",
       "      <td>31.89</td>\n",
       "      <td>31.95</td>\n",
       "      <td>30.92</td>\n",
       "      <td>31.01</td>\n",
       "      <td>4261193</td>\n",
       "    </tr>\n",
       "    <tr>\n",
       "      <th>4</th>\n",
       "      <td>27-Jul-12</td>\n",
       "      <td>31.26</td>\n",
       "      <td>32.00</td>\n",
       "      <td>31.17</td>\n",
       "      <td>31.90</td>\n",
       "      <td>3312890</td>\n",
       "    </tr>\n",
       "  </tbody>\n",
       "</table>\n",
       "</div>"
      ],
      "text/plain": [
       "        Date   Open   High    Low  Close   Volume\n",
       "0   2-Aug-12  30.46  30.83  30.25  30.58  2639980\n",
       "1   1-Aug-12  31.05  31.17  30.64  30.69  2738740\n",
       "2  31-Jul-12  30.99  31.27  30.84  30.88  2662853\n",
       "3  30-Jul-12  31.89  31.95  30.92  31.01  4261193\n",
       "4  27-Jul-12  31.26  32.00  31.17  31.90  3312890"
      ]
     },
     "execution_count": 18,
     "metadata": {},
     "output_type": "execute_result"
    }
   ],
   "source": [
    "df3.head()"
   ]
  },
  {
   "cell_type": "code",
   "execution_count": null,
   "metadata": {},
   "outputs": [],
   "source": []
  }
 ],
 "metadata": {
  "kernelspec": {
   "display_name": "Python 3.7.6 64-bit ('base': conda)",
   "language": "python",
   "name": "python37664bitbaseconda3b6d3a2867974bf7bbdb7d2b6d9294b6"
  },
  "language_info": {
   "codemirror_mode": {
    "name": "ipython",
    "version": 3
   },
   "file_extension": ".py",
   "mimetype": "text/x-python",
   "name": "python",
   "nbconvert_exporter": "python",
   "pygments_lexer": "ipython3",
   "version": "3.7.6"
  }
 },
 "nbformat": 4,
 "nbformat_minor": 4
}
